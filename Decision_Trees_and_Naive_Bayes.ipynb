{
 "cells": [
  {
   "cell_type": "code",
   "execution_count": 1,
   "metadata": {},
   "outputs": [
    {
     "name": "stderr",
     "output_type": "stream",
     "text": [
      "/home/abhishek/anaconda3/lib/python3.6/site-packages/sklearn/cross_validation.py:41: DeprecationWarning: This module was deprecated in version 0.18 in favor of the model_selection module into which all the refactored classes and functions are moved. Also note that the interface of the new CV iterators are different from that of this module. This module will be removed in 0.20.\n",
      "  \"This module will be removed in 0.20.\", DeprecationWarning)\n"
     ]
    }
   ],
   "source": [
    "import numpy as np\n",
    "import matplotlib.pyplot as plt\n",
    "%matplotlib inline\n",
    "from itertools import cycle\n",
    "\n",
    "from sklearn.preprocessing import StandardScaler\n",
    "from sklearn.svm import LinearSVC, SVC\n",
    "from sklearn.decomposition import PCA\n",
    "from sklearn import cross_validation\n",
    "from sklearn.metrics import confusion_matrix, accuracy_score\n",
    "from sklearn.naive_bayes import GaussianNB\n",
    "from sklearn.tree import DecisionTreeClassifier\n",
    "from sklearn.ensemble import RandomForestClassifier, BaggingClassifier, GradientBoostingClassifier, AdaBoostClassifier"
   ]
  },
  {
   "cell_type": "code",
   "execution_count": 2,
   "metadata": {},
   "outputs": [],
   "source": [
    "data = np.genfromtxt('cleveland.data', dtype = float, delimiter = ',')\n",
    "#Removing rows with missing values\n",
    "data = data[~np.isnan(data).any(axis=1)]\n",
    "X = data[:,:-1] #Feature set\n",
    "Y = data[:, -1]    #label Set\n",
    "''' \n",
    "In Y: \n",
    "Value 0: < 50% diameter narrowing\n",
    "Value 1-4: > 50% diameter narrowing  , so covert all values >0 to 1\n",
    "'''\n",
    "Y[Y > 0] = 1   \n",
    "target_names = ['0','1']"
   ]
  },
  {
   "cell_type": "code",
   "execution_count": 3,
   "metadata": {},
   "outputs": [],
   "source": [
    "attr_names = ( \"age\", \"sex\", \"cp\", \"trestbps\", \"chol\",\"fbs\", \"restecg\",\n",
    "              \"thalach\",\"exang\", \"oldpeak\",\"slope\", \"ca\", \"thal\", \"num\")"
   ]
  },
  {
   "cell_type": "code",
   "execution_count": 4,
   "metadata": {},
   "outputs": [],
   "source": [
    "# First normalise the data so that the data is now between -1 and 1\n",
    "\n",
    "X = StandardScaler().fit_transform(X)"
   ]
  },
  {
   "cell_type": "code",
   "execution_count": 5,
   "metadata": {},
   "outputs": [],
   "source": [
    "# Applying cross validation on the training and test set for validating our linear SVM model\n",
    "X_train,X_test,Y_train,Y_test = cross_validation.train_test_split(X, Y, test_size = 0.2, train_size=0.8, random_state=0)"
   ]
  },
  {
   "cell_type": "code",
   "execution_count": 6,
   "metadata": {},
   "outputs": [
    {
     "name": "stdout",
     "output_type": "stream",
     "text": [
      "\n",
      "Naive Bayes Confusion Matrix:\n",
      "[[28  2]\n",
      " [ 7 23]]\n",
      "Naive Bayes accuracy\n",
      "0.85\n"
     ]
    }
   ],
   "source": [
    "## naive bayes classifier\n",
    "gnb = GaussianNB()\n",
    "gnb.fit(X_train, Y_train)\n",
    "gnb_predict = gnb.predict(X_test)\n",
    "\n",
    "## find accuracy\n",
    "gnb_conf_matrix = confusion_matrix(Y_test, gnb_predict)\n",
    "gnb_accuracy_score = accuracy_score(Y_test, gnb_predict)\n",
    "\n",
    "print(\"\\nNaive Bayes Confusion Matrix:\")\n",
    "print(gnb_conf_matrix)\n",
    "print(\"Naive Bayes accuracy\")\n",
    "print(gnb_accuracy_score)"
   ]
  },
  {
   "cell_type": "code",
   "execution_count": 7,
   "metadata": {},
   "outputs": [
    {
     "name": "stdout",
     "output_type": "stream",
     "text": [
      "\n",
      "Decision Tree CART Confusion Matrix:\n",
      "[[19 11]\n",
      " [ 7 23]]\n",
      "Decision Tree CART accuracy\n",
      "0.7\n"
     ]
    }
   ],
   "source": [
    "## Decision tree CART\n",
    "dt = DecisionTreeClassifier(max_depth=10)\n",
    "dt.fit(X_train,Y_train)\n",
    "dt_predict = dt.predict(X_test)\n",
    "\n",
    "## find accuracy\n",
    "dt_conf_matrix = confusion_matrix(Y_test, dt_predict)\n",
    "dt_accuracy_score = accuracy_score(Y_test, dt_predict)\n",
    "\n",
    "print(\"\\nDecision Tree CART Confusion Matrix:\")\n",
    "print(dt_conf_matrix)\n",
    "print(\"Decision Tree CART accuracy\")\n",
    "print(dt_accuracy_score)"
   ]
  },
  {
   "cell_type": "code",
   "execution_count": 8,
   "metadata": {},
   "outputs": [
    {
     "name": "stdout",
     "output_type": "stream",
     "text": [
      "\n",
      "Decision Tree ID3 Confusion Matrix:\n",
      "[[21  9]\n",
      " [ 8 22]]\n",
      "Decision Tree ID3 Accuracy\n",
      "0.7166666666666667\n"
     ]
    }
   ],
   "source": [
    "## Decision tree ID3\n",
    "id3 = DecisionTreeClassifier(criterion='entropy',max_depth=10)\n",
    "id3.fit(X_train,Y_train)\n",
    "id3_predict = id3.predict(X_test)\n",
    "\n",
    "id3_conf_matrix = confusion_matrix(Y_test, id3_predict)\n",
    "id3_accuracy_score = accuracy_score(Y_test, id3_predict)\n",
    "\n",
    "print(\"\\nDecision Tree ID3 Confusion Matrix:\")\n",
    "print(id3_conf_matrix)\n",
    "print(\"Decision Tree ID3 Accuracy\")\n",
    "print(id3_accuracy_score)"
   ]
  },
  {
   "cell_type": "code",
   "execution_count": 23,
   "metadata": {},
   "outputs": [
    {
     "name": "stdout",
     "output_type": "stream",
     "text": [
      "\n",
      "Random Forest Confusion Matrix:\n",
      "[[27  3]\n",
      " [ 7 23]]\n",
      "Random Forest accuracy\n",
      "0.8333333333333334\n"
     ]
    }
   ],
   "source": [
    "## Randon forest classifier\n",
    "rf = RandomForestClassifier(max_depth=6) #10 trees\n",
    "rf.fit(X_train, Y_train)\n",
    "rf_predict = rf.predict(X_test)\n",
    "\n",
    "## find accuracy\n",
    "rf_conf_matrix = confusion_matrix(Y_test,rf_predict)\n",
    "rf_accuracy_score = accuracy_score(Y_test, rf_predict)\n",
    "\n",
    "print(\"\\nRandom Forest Confusion Matrix:\")\n",
    "print(rf_conf_matrix)\n",
    "print(\"Random Forest accuracy\")\n",
    "print(rf_accuracy_score)"
   ]
  },
  {
   "cell_type": "code",
   "execution_count": 10,
   "metadata": {},
   "outputs": [
    {
     "name": "stdout",
     "output_type": "stream",
     "text": [
      "\n",
      "Bagging Confusion Matrix:\n",
      "[[24  6]\n",
      " [ 9 21]]\n",
      "Bagging Accuracy\n",
      "0.75\n"
     ]
    }
   ],
   "source": [
    "## Bagging\n",
    "cart = DecisionTreeClassifier()\n",
    "bagging = BaggingClassifier(base_estimator=cart, n_estimators=20, random_state=7)\n",
    "bagging.fit(X_train, Y_train)\n",
    "bagging_predict = bagging.predict(X_test)\n",
    "\n",
    "bagging_conf_matrix = confusion_matrix(Y_test,bagging_predict)\n",
    "bagging_accuracy_score = accuracy_score(Y_test, bagging_predict)\n",
    "\n",
    "\n",
    "print(\"\\nBagging Confusion Matrix:\")\n",
    "print(bagging_conf_matrix)\n",
    "print(\"Bagging Accuracy\")\n",
    "print(bagging_accuracy_score)"
   ]
  },
  {
   "cell_type": "code",
   "execution_count": 11,
   "metadata": {},
   "outputs": [
    {
     "name": "stdout",
     "output_type": "stream",
     "text": [
      "\n",
      "Gradient Boosting Confusion Matrix:\n",
      "[[23  7]\n",
      " [ 6 24]]\n",
      "Gradient Boosting Accuracy\n",
      "0.7833333333333333\n"
     ]
    }
   ],
   "source": [
    "##Gradient Boosting\n",
    "gbm = GradientBoostingClassifier(learning_rate=0.01,random_state=1, n_estimators=1000)\n",
    "gbm.fit(X_train, Y_train)\n",
    "gbm_predict = gbm.predict(X_test)\n",
    "\n",
    "\n",
    "gbm_conf_matrix = confusion_matrix(Y_test,gbm_predict)\n",
    "gbm_accuracy_score = accuracy_score(Y_test, gbm_predict)\n",
    "\n",
    "print(\"\\nGradient Boosting Confusion Matrix:\")\n",
    "print(gbm_conf_matrix)\n",
    "print(\"Gradient Boosting Accuracy\")\n",
    "print(gbm_accuracy_score)"
   ]
  },
  {
   "cell_type": "code",
   "execution_count": 12,
   "metadata": {},
   "outputs": [
    {
     "name": "stdout",
     "output_type": "stream",
     "text": [
      "\n",
      "Adaboost Confusion Matrix:\n",
      "[[22  8]\n",
      " [ 6 24]]\n",
      "Adaboost Accuracy\n",
      "0.7666666666666667\n"
     ]
    }
   ],
   "source": [
    "## Adaboost\n",
    "ada = AdaBoostClassifier(base_estimator=cart, random_state= 7)\n",
    "ada.fit(X_train, Y_train)\n",
    "ada_predict = ada.predict(X_test)\n",
    "\n",
    "\n",
    "ada_conf_matrix = confusion_matrix(Y_test,ada_predict)\n",
    "ada_accuracy_score = accuracy_score(Y_test, ada_predict)\n",
    "\n",
    "print(\"\\nAdaboost Confusion Matrix:\")\n",
    "print(ada_conf_matrix)\n",
    "print(\"Adaboost Accuracy\")\n",
    "print(ada_accuracy_score)"
   ]
  },
  {
   "cell_type": "code",
   "execution_count": null,
   "metadata": {},
   "outputs": [],
   "source": []
  }
 ],
 "metadata": {
  "kernelspec": {
   "display_name": "Python 3",
   "language": "python",
   "name": "python3"
  },
  "language_info": {
   "codemirror_mode": {
    "name": "ipython",
    "version": 3
   },
   "file_extension": ".py",
   "mimetype": "text/x-python",
   "name": "python",
   "nbconvert_exporter": "python",
   "pygments_lexer": "ipython3",
   "version": "3.6.5"
  }
 },
 "nbformat": 4,
 "nbformat_minor": 2
}
